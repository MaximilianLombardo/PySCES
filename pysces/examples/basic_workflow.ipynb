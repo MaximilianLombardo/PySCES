{
 "cells": [
  {
   "cell_type": "markdown",
   "metadata": {},
   "source": [
    "# PySCES Basic Workflow\n",
    "\n",
    "This notebook demonstrates the basic workflow for using PySCES to analyze single-cell data."
   ]
  },
  {
   "cell_type": "code",
   "execution_count": null,
   "metadata": {},
   "outputs": [],
   "source": [
    "# Import packages\n",
    "import pysces\n",
    "import numpy as np\n",
    "import pandas as pd\n",
    "import matplotlib.pyplot as plt\n",
    "import seaborn as sns\n",
    "\n",
    "# Set plotting style\n",
    "plt.style.use('seaborn-whitegrid')\n",
    "sns.set_context('notebook')"
   ]
  },
  {
   "cell_type": "markdown",
   "metadata": {},
   "source": [
    "## 1. Load Data\n",
    "\n",
    "PySCES can load data from various sources, including CELLxGENE Census, AnnData files, and CSV files."
   ]
  },
  {
   "cell_type": "code",
   "execution_count": null,
   "metadata": {},
   "outputs": [],
   "source": [
    "# Load data from CELLxGENE Census\n",
    "# Note: This will download data from the Census, which may take some time\n",
    "# For this example, we'll limit to a small subset of cells\n",
    "adata = pysces.read_census(\n",
    "    \"homo_sapiens\",\n",
    "    obs_query=\"tissue_general == 'blood' and is_primary_data == True\",\n",
    "    max_cells=5000\n",
    ")\n",
    "\n",
    "# Alternatively, load from a local file\n",
    "# adata = pysces.read_anndata(\"path/to/data.h5ad\")\n",
    "\n",
    "# Print basic information about the dataset\n",
    "print(f\"Dataset shape: {adata.shape}\")\n",
    "print(f\"Number of cells: {adata.n_obs}\")\n",
    "print(f\"Number of genes: {adata.n_vars}\")"
   ]
  },
  {
   "cell_type": "markdown",
   "metadata": {},
   "source": [
    "## 2. Preprocess Data\n",
    "\n",
    "Preprocessing includes quality control, filtering, normalization, and transformation."
   ]
  },
  {
   "cell_type": "code",
   "execution_count": null,
   "metadata": {},
   "outputs": [],
   "source": [
    "# Preprocess data\n",
    "adata = pysces.preprocess_data(\n",
    "    adata,\n",
    "    min_genes=200,\n",
    "    min_cells=10,\n",
    "    max_pct_mito=20,\n",
    "    normalize=True\n",
    ")\n",
    "\n",
    "# Apply rank transformation (required for ARACNe)\n",
    "adata = pysces.rank_transform(adata, target_layer='rank')\n",
    "\n",
    "# Print updated information\n",
    "print(f\"After preprocessing: {adata.shape}\")\n",
    "print(f\"Available layers: {list(adata.layers.keys())}\")"
   ]
  },
  {
   "cell_type": "markdown",
   "metadata": {},
   "source": [
    "## 3. Run ARACNe\n",
    "\n",
    "ARACNe infers gene regulatory networks from expression data."
   ]
  },
  {
   "cell_type": "code",
   "execution_count": null,
   "metadata": {},
   "outputs": [],
   "source": [
    "# Load a list of transcription factors\n",
    "# For this example, we'll use a small subset of TFs\n",
    "# In practice, you would use a comprehensive list\n",
    "example_tfs = [\n",
    "    \"STAT1\", \"STAT3\", \"IRF1\", \"IRF8\", \"GATA1\", \"GATA2\", \"GATA3\",\n",
    "    \"SPI1\", \"CEBPA\", \"CEBPB\", \"RUNX1\", \"RUNX2\", \"RUNX3\",\n",
    "    \"MYC\", \"MYCN\", \"FOXP3\", \"FOXO1\", \"FOXO3\", \"PAX5\", \"EBF1\"\n",
    "]\n",
    "\n",
    "# Filter to TFs that are in our dataset\n",
    "tf_list = [tf for tf in example_tfs if tf in adata.var_names]\n",
    "print(f\"Using {len(tf_list)} transcription factors\")\n",
    "\n",
    "# Run ARACNe\n",
    "aracne = pysces.ARACNe(p_value=1e-7, bootstraps=10)  # Use more bootstraps in practice\n",
    "network = aracne.run(adata, tf_list=tf_list, layer='rank')\n",
    "\n",
    "# Convert network to regulons\n",
    "regulons = pysces.aracne_to_regulons(network)\n",
    "\n",
    "# Print information about the regulons\n",
    "print(f\"Number of regulons: {len(regulons)}\")\n",
    "for i, regulon in enumerate(regulons[:5]):\n",
    "    print(f\"Regulon {i+1}: {regulon['tf']} with {len(regulon['targets'])} targets\")"
   ]
  },
  {
   "cell_type": "markdown",
   "metadata": {},
   "source": [
    "## 4. Run VIPER\n",
    "\n",
    "VIPER infers protein activity from gene expression and regulons."
   ]
  },
  {
   "cell_type": "code",
   "execution_count": null,
   "metadata": {},
   "outputs": [],
   "source": [
    "# Run VIPER\n",
    "activity = pysces.viper(adata, regulons, layer='rank')\n",
    "\n",
    "# Print information about the activity matrix\n",
    "print(f\"Activity matrix shape: {activity.shape}\")\n",
    "print(f\"Top 5 proteins: {activity.index[:5].tolist()}\")"
   ]
  },
  {
   "cell_type": "markdown",
   "metadata": {},
   "source": [
    "## 5. Cluster Cells\n",
    "\n",
    "Cluster cells based on protein activity profiles."
   ]
  },
  {
   "cell_type": "code",
   "execution_count": null,
   "metadata": {},
   "outputs": [],
   "source": [
    "# Cluster cells based on protein activity\n",
    "adata = pysces.cluster_activity(\n",
    "    adata,\n",
    "    activity,\n",
    "    method='leiden',\n",
    "    resolution=1.0\n",
    ")\n",
    "\n",
    "# Print cluster information\n",
    "print(\"Cluster sizes:\")\n",
    "print(adata.obs['activity_clusters'].value_counts())"
   ]
  },
  {
   "cell_type": "markdown",
   "metadata": {},
   "source": [
    "## 6. Identify Master Regulators\n",
    "\n",
    "Identify master regulators for each cluster."
   ]
  },
  {
   "cell_type": "code",
   "execution_count": null,
   "metadata": {},
   "outputs": [],
   "source": [
    "# Identify master regulators for each cluster\n",
    "cluster_mrs = pysces.cluster_mrs(activity, adata.obs['activity_clusters'])\n",
    "\n",
    "# Print top master regulators for each cluster\n",
    "for cluster, mrs in cluster_mrs.items():\n",
    "    print(f\"\\nTop 5 master regulators for cluster {cluster}:\")\n",
    "    print(mrs[['tf', 'mean_diff', 'adj_p_value']].head(5))"
   ]
  },
  {
   "cell_type": "markdown",
   "metadata": {},
   "source": [
    "## 7. Visualize Results\n",
    "\n",
    "Visualize protein activity and master regulators."
   ]
  },
  {
   "cell_type": "code",
   "execution_count": null,
   "metadata": {},
   "outputs": [],
   "source": [
    "# Plot UMAP with clusters\n",
    "plt.figure(figsize=(10, 8))\n",
    "plt.scatter(\n",
    "    adata.obsm['X_umap'][:, 0],\n",
    "    adata.obsm['X_umap'][:, 1],\n",
    "    c=adata.obs['activity_clusters'].astype('category').cat.codes,\n",
    "    cmap='tab20',\n",
    "    s=10,\n",
    "    alpha=0.7\n",
    ")\n",
    "plt.colorbar(label='Cluster')\n",
    "plt.title('UMAP of Protein Activity Clusters')\n",
    "plt.xlabel('UMAP1')\n",
    "plt.ylabel('UMAP2')\n",
    "plt.show()"
   ]
  },
  {
   "cell_type": "code",
   "execution_count": null,
   "metadata": {},
   "outputs": [],
   "source": [
    "# Plot activity of top master regulators on UMAP\n",
    "# Get top MRs from each cluster\n",
    "top_mrs = set()\n",
    "for cluster, mrs in cluster_mrs.items():\n",
    "    top_mrs.update(mrs['tf'].head(3).tolist())\n",
    "\n",
    "# Plot activity\n",
    "fig = pysces.plot_activity_umap(adata, activity, list(top_mrs), cluster_key='activity_clusters')\n",
    "plt.show()"
   ]
  },
  {
   "cell_type": "code",
   "execution_count": null,
   "metadata": {},
   "outputs": [],
   "source": [
    "# Plot heatmap of protein activity across clusters\n",
    "fig = pysces.plot_activity_heatmap(activity, adata.obs['activity_clusters'])\n",
    "plt.show()"
   ]
  },
  {
   "cell_type": "code",
   "execution_count": null,
   "metadata": {},
   "outputs": [],
   "source": [
    "# Plot master regulators for a specific cluster\n",
    "cluster_id = adata.obs['activity_clusters'].value_counts().index[0]  # Use the largest cluster\n",
    "fig = pysces.plot_master_regulators(cluster_mrs[cluster_id])\n",
    "plt.title(f'Master Regulators for Cluster {cluster_id}')\n",
    "plt.show()"
   ]
  },
  {
   "cell_type": "markdown",
   "metadata": {},
   "source": [
    "## 8. Save Results\n",
    "\n",
    "Save the results for future use."
   ]
  },
  {
   "cell_type": "code",
   "execution_count": null,
   "metadata": {},
   "outputs": [],
   "source": [
    "# Save AnnData object\n",
    "# adata.write('results.h5ad')\n",
    "\n",
    "# Save activity matrix\n",
    "# activity.to_csv('activity_matrix.csv')\n",
    "\n",
    "# Save master regulators\n",
    "# for cluster, mrs in cluster_mrs.items():\n",
    "#     mrs.to_csv(f'mrs_cluster_{cluster}.csv')"
   ]
  }
 ],
 "metadata": {
  "kernelspec": {
   "display_name": "Python 3",
   "language": "python",
   "name": "python3"
  },
  "language_info": {
   "codemirror_mode": {
    "name": "ipython",
    "version": 3
   },
   "file_extension": ".py",
   "mimetype": "text/x-python",
   "name": "python",
   "nbconvert_exporter": "python",
   "pygments_lexer": "ipython3",
   "version": "3.10.0"
  }
 },
 "nbformat": 4,
 "nbformat_minor": 4
}
